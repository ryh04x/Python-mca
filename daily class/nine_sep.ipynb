{
 "cells": [
  {
   "cell_type": "markdown",
   "metadata": {},
   "source": [
    "Passing Argumnets in Func"
   ]
  },
  {
   "cell_type": "code",
   "execution_count": 1,
   "metadata": {},
   "outputs": [
    {
     "name": "stdout",
     "output_type": "stream",
     "text": [
      "7\n"
     ]
    }
   ],
   "source": [
    "def add(a, b):\n",
    "    \n",
    "    return a+b \n",
    "\n",
    "result = add(3,4)  #passing argumnets in function \n",
    "print(result)"
   ]
  },
  {
   "cell_type": "markdown",
   "metadata": {},
   "source": [
    "Access Doc String"
   ]
  },
  {
   "cell_type": "code",
   "execution_count": 3,
   "metadata": {},
   "outputs": [],
   "source": [
    "\n",
    "def multiply(a, b):\n",
    "\n",
    "    \"\"\"\n",
    "    Multiplies two numbers and returns the result.\n",
    "    \n",
    "    Parameters:\n",
    "    a (int, float): The first number.\n",
    "    b (int, float): The second number.\n",
    "    \n",
    "    Returns:\n",
    "    int, float: The product of a and b.\n",
    "    \"\"\"\n",
    "    return a * b\n",
    "    \n",
    "    print(multiply.doc)"
   ]
  },
  {
   "cell_type": "markdown",
   "metadata": {},
   "source": [
    "Keywords and optional params"
   ]
  },
  {
   "cell_type": "code",
   "execution_count": 5,
   "metadata": {},
   "outputs": [
    {
     "name": "stdout",
     "output_type": "stream",
     "text": [
      "My name is Rhythm, my age is 21\n"
     ]
    }
   ],
   "source": [
    "def intro(name, age):\n",
    "    return f\"My name is {name}, my age is {age}\"\n",
    "\n",
    "\n",
    "print(intro(\"Rhythm\",21))"
   ]
  },
  {
   "cell_type": "markdown",
   "metadata": {},
   "source": [
    "Passing Collections to a func"
   ]
  },
  {
   "cell_type": "code",
   "execution_count": 8,
   "metadata": {},
   "outputs": [
    {
     "name": "stdout",
     "output_type": "stream",
     "text": [
      "15\n"
     ]
    }
   ],
   "source": [
    "def sum_num(numbers):\n",
    "    '''\n",
    "    sum all the numbers in a collection\n",
    "    '''    \n",
    "    return sum(numbers)\n",
    "\n",
    "result = sum_num([1,2,3,4,5])\n",
    "print(result)\n",
    "    \n"
   ]
  },
  {
   "cell_type": "markdown",
   "metadata": {},
   "source": [
    "Variable Number of Arguments (args and kwargs)"
   ]
  },
  {
   "cell_type": "code",
   "execution_count": 3,
   "metadata": {},
   "outputs": [
    {
     "name": "stdout",
     "output_type": "stream",
     "text": [
      "1\n",
      "2\n",
      "3\n",
      "4\n",
      "5\n",
      "6\n",
      "7\n",
      "8\n",
      "9\n",
      "10\n",
      "name: Rhythm\n",
      "age: 21\n",
      "city: Mumbai\n",
      "None\n"
     ]
    }
   ],
   "source": [
    "def print_numbers(*args):\n",
    "    for num in args:\n",
    "        print(num)\n",
    "        \n",
    "print_numbers(1,2,3,4,5,6,7,8,9,10)\n",
    "\n",
    "def print_key_values(**kwargs):\n",
    "    for key, value in kwargs.items():\n",
    "        print(f\"{key}: {value}\")\n",
    "        \n",
    "print(print_key_values(name=\"Rhythm\", age=21, city=\"Mumbai\"))"
   ]
  },
  {
   "cell_type": "markdown",
   "metadata": {},
   "source": [
    "#Scope of variable\n",
    "\n",
    "<h3>Advanced Explanation: </h3>\n",
    "Scope refers to the visibility and lifetime of variables within different parts of your code. In Python, there are four types of scopes:\n",
    "\n",
    "<b>Local Scope:</b> Variables declared inside a function are local to that function.\n",
    "\n",
    "<b>Enclosing Scope:</b> Refers to variables in the scope of the outer function when using nested functions.\n",
    "\n",
    "<b>Global Scope:</b> Variables declared at the top level of a script or module are global and can be accessed anywhere in the code.\n",
    "\n",
    "<b>Built-in Scope:</b> Refers to the names of built-in functions and exceptions."
   ]
  },
  {
   "cell_type": "code",
   "execution_count": 7,
   "metadata": {},
   "outputs": [
    {
     "name": "stdout",
     "output_type": "stream",
     "text": [
      "30\n",
      "20\n",
      "10\n"
     ]
    }
   ],
   "source": [
    "x = 10  # Global variable\n",
    "\n",
    "\n",
    "def outer_function():\n",
    "    x = 20  # Enclosing variable\n",
    "    def inner_function():\n",
    "        x = 30  # Local variable\n",
    "        print(x)  # Output: 30\n",
    "    inner_function()\n",
    "    print(x)  # Output: 20\n",
    "    \n",
    "outer_function()\n",
    "print(x)  # Output: 10\n",
    "\n"
   ]
  },
  {
   "cell_type": "markdown",
   "metadata": {},
   "source": [
    "Modifying Global Variables"
   ]
  },
  {
   "cell_type": "code",
   "execution_count": 11,
   "metadata": {},
   "outputs": [
    {
     "name": "stdout",
     "output_type": "stream",
     "text": [
      "11\n"
     ]
    }
   ],
   "source": [
    "counter = 10\n",
    "\n",
    "\n",
    "def increment():\n",
    "    global counter  # Use the global keyword to declare that we want to use the global variable\n",
    "    counter += 1\n",
    "    \n",
    "increment()\n",
    "print(counter)  \n"
   ]
  },
  {
   "cell_type": "markdown",
   "metadata": {},
   "source": [
    "#Behavior of Mutable and Immutable Arguments \n",
    "\n",
    "\n",
    "Immutable Objects: When you pass an immutable object (like integers, strings, tuples) to a function, and modify it inside the function, a new object is created, and the original object remains unchanged"
   ]
  },
  {
   "cell_type": "code",
   "execution_count": 13,
   "metadata": {},
   "outputs": [
    {
     "name": "stdout",
     "output_type": "stream",
     "text": [
      "Inside function: 6\n",
      "Outside function: 5\n"
     ]
    }
   ],
   "source": [
    "def modify_immutable(x):\n",
    "      x += 1\n",
    "      print(f\"Inside function: {x}\")\n",
    "\n",
    "\n",
    "a = 5\n",
    "modify_immutable(a)\n",
    "print(f\"Outside function: {a}\")  # Output: 5 (unchanged)\n",
    "  "
   ]
  },
  {
   "cell_type": "markdown",
   "metadata": {},
   "source": [
    "Mutable Objects: When you pass a mutable object (like lists, dictionaries) to a function, modifications inside the function affect the original object."
   ]
  },
  {
   "cell_type": "code",
   "execution_count": 15,
   "metadata": {},
   "outputs": [
    {
     "name": "stdout",
     "output_type": "stream",
     "text": [
      "Inside function: [1, 2, 3, 4]\n",
      "Outside function: [1, 2, 3, 4]\n"
     ]
    }
   ],
   "source": [
    "def modify_mutable(lst):\n",
    "      lst.append(4)\n",
    "      print(f\"Inside function: {lst}\")\n",
    "\n",
    "\n",
    "my_list = [1, 2, 3]\n",
    "modify_mutable(my_list)\n",
    "print(f\"Outside function: {my_list}\")  # Output: [1, 2, 3, 4] (modified)\n",
    "  "
   ]
  },
  {
   "cell_type": "markdown",
   "metadata": {},
   "source": [
    "#Lamda Expressions"
   ]
  },
  {
   "cell_type": "code",
   "execution_count": 18,
   "metadata": {},
   "outputs": [
    {
     "name": "stdout",
     "output_type": "stream",
     "text": [
      "15\n"
     ]
    }
   ],
   "source": [
    "# Lambda function to multiply two numbers\n",
    "\n",
    "multiply = lambda a, b: a * b\n",
    "print(multiply(3, 5))  \n",
    "\n",
    "\n"
   ]
  },
  {
   "cell_type": "markdown",
   "metadata": {},
   "source": [
    "Using Map() with lamda"
   ]
  },
  {
   "cell_type": "code",
   "execution_count": 20,
   "metadata": {},
   "outputs": [
    {
     "name": "stdout",
     "output_type": "stream",
     "text": [
      "[1, 4, 9, 16]\n"
     ]
    }
   ],
   "source": [
    "\n",
    "# Lambda function to square a number with map to iterate all values passed in list\n",
    "\n",
    "numbers = [1, 2, 3, 4]\n",
    "squared = map(lambda x: x * x, numbers)\n",
    "print(list(squared))  # Output: [1, 4, 9, 16]\n"
   ]
  },
  {
   "cell_type": "markdown",
   "metadata": {},
   "source": [
    "#Map and Filter\n",
    "\n",
    "<b>Advanced Explanation:</b> map and filter are built-in functions that allow you to apply a function to a collection of data.\n",
    "map applies a given function to each item of an iterable (like a list) and returns a map object (which is an iterator).\n",
    "\n",
    "<b>filter</b> applies a function to each item of an iterable and returns a filter object containing only the items that return True."
   ]
  },
  {
   "cell_type": "code",
   "execution_count": 24,
   "metadata": {},
   "outputs": [
    {
     "name": "stdout",
     "output_type": "stream",
     "text": [
      "[1, 4, 9, 16, 25]\n"
     ]
    }
   ],
   "source": [
    "# Using map to square each number in a list\n",
    "\n",
    "numbers = [1, 2, 3, 4, 5]\n",
    "squared = map(lambda x: x * x, numbers)\n",
    "\n",
    "print(list(squared))  \n"
   ]
  },
  {
   "cell_type": "markdown",
   "metadata": {},
   "source": [
    "Using filter with Map and lambda"
   ]
  },
  {
   "cell_type": "code",
   "execution_count": 26,
   "metadata": {},
   "outputs": [
    {
     "name": "stdout",
     "output_type": "stream",
     "text": [
      "[2, 4]\n"
     ]
    }
   ],
   "source": [
    "even_numbers = filter(lambda x: x % 2 == 0, numbers)\n",
    "print(list(even_numbers))  # Output: [2, 4]"
   ]
  },
  {
   "cell_type": "markdown",
   "metadata": {},
   "source": [
    "#Mapping Functions in a Dictionary"
   ]
  },
  {
   "cell_type": "code",
   "execution_count": 29,
   "metadata": {},
   "outputs": [
    {
     "name": "stdout",
     "output_type": "stream",
     "text": [
      "15\n"
     ]
    }
   ],
   "source": [
    "def add(a, b):\n",
    "    return a + b\n",
    "\n",
    "def subtract(a, b):\n",
    "    return a - b\n",
    "\n",
    "operations = {\n",
    "    \"add\": add,\n",
    "    \"subtract\": subtract\n",
    "}\n",
    "\n",
    "operationsoperation = operations[\"add\"](10, 5)  # passing argumnets to function\n",
    "operation = \"add\"\n",
    "result = operationsoperation\n",
    "print(result)  \n"
   ]
  },
  {
   "cell_type": "markdown",
   "metadata": {},
   "source": [
    "#Closures\n",
    "\n",
    "<h3>A closure occurs when an inner function captures and remembers the environment (variables) of the enclosing function even after the outer function has finished executing. Closures allow you to create functions with persistent state</h3>"
   ]
  },
  {
   "cell_type": "code",
   "execution_count": 32,
   "metadata": {},
   "outputs": [
    {
     "name": "stdout",
     "output_type": "stream",
     "text": [
      "100\n"
     ]
    }
   ],
   "source": [
    "def make_multiplier(n):\n",
    "\n",
    "    def multiplier(x):\n",
    "        return x * n\n",
    "    return multiplier\n",
    "\n",
    "times_three = make_multiplier(10)\n",
    "print(times_three(10)) \n"
   ]
  }
 ],
 "metadata": {
  "kernelspec": {
   "display_name": "Python 3",
   "language": "python",
   "name": "python3"
  },
  "language_info": {
   "codemirror_mode": {
    "name": "ipython",
    "version": 3
   },
   "file_extension": ".py",
   "mimetype": "text/x-python",
   "name": "python",
   "nbconvert_exporter": "python",
   "pygments_lexer": "ipython3",
   "version": "3.12.6"
  }
 },
 "nbformat": 4,
 "nbformat_minor": 2
}
