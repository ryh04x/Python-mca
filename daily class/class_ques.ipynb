{
 "cells": [
  {
   "cell_type": "markdown",
   "metadata": {},
   "source": [
    "<h2>CLASS QUESTION</h2>"
   ]
  },
  {
   "cell_type": "markdown",
   "metadata": {},
   "source": [
    "WAP that takes list of SAP ID and returns a list of email address"
   ]
  },
  {
   "cell_type": "code",
   "execution_count": null,
   "metadata": {},
   "outputs": [],
   "source": [
    "# write a program that takes\n",
    "# list of sap ids and returns a list of email addresses \n",
    "\n",
    "#input \n",
    "list = [123,\"234\"]\n",
    "#output\n",
    "res = [\"123@stu.upes.ac.in\",\"234@stu.upes.ac.in\"]\n",
    "\n",
    "#1 without using map, filter lambda or list comprehension \n",
    "#2 using map. filter, lambda without using list comprehension \n",
    "#3 using list comprehension"
   ]
  },
  {
   "cell_type": "markdown",
   "metadata": {},
   "source": [
    "#1 without using map, filter lambda or list comprehension "
   ]
  },
  {
   "cell_type": "code",
   "execution_count": 21,
   "metadata": {},
   "outputs": [
    {
     "name": "stdout",
     "output_type": "stream",
     "text": [
      "['590018178@stu.upes.ac.in', '590020098@stu.upes.ac.in']\n"
     ]
    }
   ],
   "source": [
    "def saptoemail(sap_ids):\n",
    "    emails = []  \n",
    "    \n",
    "    for sap_id in sap_ids:\n",
    "        email = f\"{sap_id}@stu.upes.ac.in\"  \n",
    "        emails.append(email) \n",
    "    return emails\n",
    "\n",
    "sap_ids = [590018178, 590020098]\n",
    "result = saptoemail(sap_ids)\n",
    "print(result)  "
   ]
  },
  {
   "cell_type": "markdown",
   "metadata": {},
   "source": [
    "#2 using map. filter, lambda without using list comprehension \n"
   ]
  },
  {
   "cell_type": "code",
   "execution_count": 20,
   "metadata": {},
   "outputs": [
    {
     "name": "stdout",
     "output_type": "stream",
     "text": [
      "['590018178@stu.upes.ac.in', '590020098@stu.upes.ac.in']\n"
     ]
    }
   ],
   "source": [
    "def saptoemail(sap_ids):\n",
    "    return list(map(lambda sap_id: f\"{sap_id}@stu.upes.ac.in\", sap_ids))\n",
    "\n",
    "sap_ids = [590018178, 590020098]\n",
    "result = saptoemail(sap_ids)\n",
    "print(result)  \n"
   ]
  },
  {
   "cell_type": "markdown",
   "metadata": {},
   "source": [
    "#3 using list comprehension"
   ]
  },
  {
   "cell_type": "code",
   "execution_count": 19,
   "metadata": {},
   "outputs": [
    {
     "name": "stdout",
     "output_type": "stream",
     "text": [
      "['590018178@stu.upes.ac.in', '590020098@stu.upes.ac.in']\n"
     ]
    }
   ],
   "source": [
    "def sap_ids_to_emails(sap_ids):\n",
    "    return [f\"{sap_id}@stu.upes.ac.in\" for sap_id in sap_ids]\n",
    "\n",
    "\n",
    "sap_ids = [590018178, 590020098]\n",
    "result = sap_ids_to_emails(sap_ids)\n",
    "print(result) \n"
   ]
  },
  {
   "cell_type": "markdown",
   "metadata": {},
   "source": [
    "Write a program that display current time and pause for two seconds in display time "
   ]
  },
  {
   "cell_type": "code",
   "execution_count": 2,
   "metadata": {},
   "outputs": [
    {
     "name": "stdout",
     "output_type": "stream",
     "text": [
      "Current time: 14:39:25\n",
      "Current time after pause: 14:39:27\n"
     ]
    }
   ],
   "source": [
    "import time\n",
    "\n",
    "# current time\n",
    "current_t = time.strftime(\"%H:%M:%S\", time.localtime())\n",
    "print(\"Current time:\", current_t)\n",
    "\n",
    "# Delay for two seconds using sleep function\n",
    "time.sleep(2)\n",
    "\n",
    "# Display current time again with 2 seconds delay\n",
    "current_t = time.strftime(\"%H:%M:%S\", time.localtime())\n",
    "print(\"Current time after pause:\", current_t)"
   ]
  },
  {
   "cell_type": "markdown",
   "metadata": {},
   "source": [
    "Write a program that takes directory address location from user and returns a list that contains all the files in that location . you can use OS module to perform the sections."
   ]
  },
  {
   "cell_type": "code",
   "execution_count": 4,
   "metadata": {},
   "outputs": [
    {
     "name": "stdout",
     "output_type": "stream",
     "text": [
      "List of files in the dir:\n",
      "edit (3 of 4).jpg\n",
      "edit (4 of 4).jpg\n",
      "_1070214.RW2\n"
     ]
    }
   ],
   "source": [
    "import os\n",
    "\n",
    "# Input directory location from user\n",
    "directory = input(\"Enter the dir loc: \")\n",
    "\n",
    "# Check if the directory exists\n",
    "\n",
    "if os.path.exists(directory):\n",
    "    files = os.listdir(directory)\n",
    "    \n",
    "    # Printing the list of files using for loop\n",
    "    print(\"List of files in the dir:\")\n",
    "    for file in files:\n",
    "        print(file)\n",
    "        \n",
    "else:\n",
    "    print(\"Dir does not exist.\")\n"
   ]
  },
  {
   "cell_type": "code",
   "execution_count": null,
   "metadata": {},
   "outputs": [],
   "source": []
  }
 ],
 "metadata": {
  "kernelspec": {
   "display_name": "Python 3",
   "language": "python",
   "name": "python3"
  },
  "language_info": {
   "codemirror_mode": {
    "name": "ipython",
    "version": 3
   },
   "file_extension": ".py",
   "mimetype": "text/x-python",
   "name": "python",
   "nbconvert_exporter": "python",
   "pygments_lexer": "ipython3",
   "version": "3.12.6"
  }
 },
 "nbformat": 4,
 "nbformat_minor": 2
}
