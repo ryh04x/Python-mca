{
 "cells": [
  {
   "cell_type": "markdown",
   "metadata": {},
   "source": [
    "List in Python"
   ]
  },
  {
   "cell_type": "code",
   "execution_count": 2,
   "metadata": {},
   "outputs": [
    {
     "name": "stdout",
     "output_type": "stream",
     "text": [
      "rhythm\n",
      "['rhythm', 'vishal', 'kartik', 'ayush']\n",
      "['rhythm', 'kartik', 'ayush']\n",
      "['rhythm', 'prabhav', 'ayush']\n"
     ]
    }
   ],
   "source": [
    "# working with list\n",
    "\n",
    "list = [\"rhythm\", \"vishal\", \"kartik\"]\n",
    "\n",
    "print(list[0])\n",
    "\n",
    "# append function on list\n",
    "\n",
    "list.append(\"ayush\")\n",
    "\n",
    "print(list)\n",
    "\n",
    "# remove function\n",
    "\n",
    "list.remove(\"vishal\")\n",
    "\n",
    "print(list)\n",
    "\n",
    "# replacing element on index 1 in a list\n",
    "\n",
    "list[1] = \"prabhav\"\n",
    "\n",
    "print(list)"
   ]
  },
  {
   "cell_type": "markdown",
   "metadata": {},
   "source": [
    "Tuples In Python"
   ]
  },
  {
   "cell_type": "code",
   "execution_count": 18,
   "metadata": {},
   "outputs": [
    {
     "name": "stdout",
     "output_type": "stream",
     "text": [
      "('1800.1', '1200.1')\n",
      "1200.1\n",
      "0\n",
      "1\n"
     ]
    }
   ],
   "source": [
    "# creating a tuple \n",
    "\n",
    "cordinates = (\"1800.1\", \"1200.1\")\n",
    "\n",
    "print(cordinates)\n",
    "\n",
    "# printing tuple with index\n",
    "\n",
    "print(cordinates[1])\n",
    "\n",
    "# count method on tuple\n",
    "\n",
    "x = cordinates.count()\n",
    "\n",
    "print(x)\n",
    "\n",
    "# index method on tuple\n",
    "\n",
    "y = cordinates.index(\"1200.1\")\n",
    "\n",
    "print(y)\n",
    "\n"
   ]
  },
  {
   "cell_type": "markdown",
   "metadata": {},
   "source": [
    "Sets in Python"
   ]
  },
  {
   "cell_type": "code",
   "execution_count": 22,
   "metadata": {},
   "outputs": [
    {
     "name": "stdout",
     "output_type": "stream",
     "text": [
      "{1, 2, 3, 4, 5}\n",
      "{1, 2, 3, 4, 5, 6}\n",
      "{1, 3, 4, 5, 6}\n"
     ]
    }
   ],
   "source": [
    "# declaring a set \n",
    "\n",
    "set = {1,2,3,4,5}\n",
    "\n",
    "print(set)\n",
    "\n",
    "# set add function\n",
    "\n",
    "set.add(6)\n",
    "\n",
    "print(set)\n",
    "\n",
    "# set remove function\n",
    "\n",
    "set.remove(2)\n",
    "\n",
    "print(set)"
   ]
  },
  {
   "cell_type": "code",
   "execution_count": 19,
   "metadata": {},
   "outputs": [
    {
     "name": "stdout",
     "output_type": "stream",
     "text": [
      "Exiting the program.\n"
     ]
    }
   ],
   "source": [
    "# defining a function for this work\n",
    "\n",
    "def count_vowels(s):\n",
    "    \n",
    "    \n",
    "    # Defining vovels in a set (both upper case as well as lower case)\n",
    "    vovels = set(\"aeiouAEIOU\")\n",
    "    \n",
    "    \n",
    "    # set vovel count in string to zero\n",
    "    count = 0\n",
    "    \n",
    "    # loop to check each char in string\n",
    "   \n",
    "    for char in s:\n",
    "        if char in vovels:\n",
    "            count += 1\n",
    "            \n",
    "            \n",
    "    return count\n",
    "                \n",
    "\n",
    "while True:\n",
    "    # Take input from user\n",
    "    input_string = input(\"Enter a string to check for vowels (or type 'exit' to quit): \")\n",
    "    \n",
    "    \n",
    "    # Check if user wants to exit\n",
    "    \n",
    "    if input_string.lower() == 'exit':\n",
    "        print(\"Exiting the program.\")\n",
    "        break\n",
    "    \n",
    "    \n",
    "    print(\"Number of vowels:\", count_vowels(input_string))"
   ]
  },
  {
   "cell_type": "markdown",
   "metadata": {},
   "source": [
    "Dict in Python"
   ]
  },
  {
   "cell_type": "code",
   "execution_count": 27,
   "metadata": {},
   "outputs": [
    {
     "name": "stdout",
     "output_type": "stream",
     "text": [
      "{'name': 'rhythm', 'age': 30, 'city': 'delhi'}\n",
      "rhythm\n",
      "21\n",
      "{'name': 'rhythm', 'age': 21}\n",
      "name: rhythm\n",
      "age: 21\n"
     ]
    }
   ],
   "source": [
    "# declaring a dict in python\n",
    "\n",
    "person = {\n",
    "    \"name\": \"rhythm\",\n",
    "    \"age\": 30,\n",
    "    \"city\": \"delhi\"\n",
    "}\n",
    "\n",
    "print(person)\n",
    "print(person[\"name\"])\n",
    "\n",
    "# changing a value from key \"age\"\n",
    "\n",
    "person[\"age\"] = 21\n",
    "print(person[\"age\"])\n",
    "\n",
    "# delete city from dict\n",
    "\n",
    "del person[\"city\"]\n",
    "print(person)\n",
    "\n",
    "# iterate dict with for loop\n",
    "\n",
    "for key, value in person.items():\n",
    "    print(f\"{key}: {value}\")\n"
   ]
  },
  {
   "cell_type": "code",
   "execution_count": 30,
   "metadata": {},
   "outputs": [
    {
     "name": "stdout",
     "output_type": "stream",
     "text": [
      "{'kartik': 7, 'rhythm': 10, 'vishal': 15}\n",
      "{'vishal': 15, 'rhythm': 10, 'kartik': 7}\n"
     ]
    }
   ],
   "source": [
    "# Sorting Dict in python\n",
    "\n",
    "scores = {\"rhythm\": 10, \"vishal\": 15, \"kartik\": 7}\n",
    "scores_sorted = dict(sorted(scores.items()))\n",
    "print(scores_sorted)\n",
    "\n",
    "# Reverse the values in decending order\n",
    "\n",
    "scores_sorted = dict(sorted(scores.items(), reverse=True))\n",
    "print(scores_sorted)"
   ]
  },
  {
   "cell_type": "markdown",
   "metadata": {},
   "source": [
    "Create a list of five elements "
   ]
  },
  {
   "cell_type": "code",
   "execution_count": 45,
   "metadata": {},
   "outputs": [
    {
     "name": "stdout",
     "output_type": "stream",
     "text": [
      "([1, 2, 3, 4, 5], [6, 7, 8, 9, 10])\n",
      "2\n",
      "[1, 2, 3, 4, 5]\n"
     ]
    }
   ],
   "source": [
    "# creating list for matrix\n",
    "\n",
    "list1 = [1,2,3,4,5]\n",
    "list2 = [6,7,8,9,10]\n",
    "\n",
    "# making a matrix with list \n",
    "\n",
    "matrix = (list1, list2)\n",
    "\n",
    "print(matrix)\n",
    "\n",
    "# length function in matrix\n",
    "\n",
    "print(len(matrix))\n",
    "\n",
    "print(matrix[0])\n",
    "\n",
    "\n"
   ]
  },
  {
   "cell_type": "code",
   "execution_count": 53,
   "metadata": {},
   "outputs": [
    {
     "name": "stdout",
     "output_type": "stream",
     "text": [
      "[1, 2, 3, 4, 5, 6, 7, [3, 4]]\n",
      "[0, 2, 3, 4, 5, 6, 7, [3, 4, 100]]\n",
      "[0, 2, 3, 4, 5, 6, 7, [3, 4, 100]]\n"
     ]
    }
   ],
   "source": [
    "# made a list A \n",
    "\n",
    "listA = [1,2,3,4,5,6,7,[3,4]]\n",
    "\n",
    "# list b == list a \n",
    "\n",
    "listB = listA\n",
    "\n",
    "# listb index zero = zero\n",
    "\n",
    "listB[0] = 0\n",
    "\n",
    "# append 100 to list b \n",
    "\n",
    "listB[len(listB)-1].append(100)\n",
    "\n",
    "print(listB)\n",
    "print(listA)"
   ]
  }
 ],
 "metadata": {
  "kernelspec": {
   "display_name": "Python 3",
   "language": "python",
   "name": "python3"
  },
  "language_info": {
   "codemirror_mode": {
    "name": "ipython",
    "version": 3
   },
   "file_extension": ".py",
   "mimetype": "text/x-python",
   "name": "python",
   "nbconvert_exporter": "python",
   "pygments_lexer": "ipython3",
   "version": "3.12.5"
  }
 },
 "nbformat": 4,
 "nbformat_minor": 2
}
