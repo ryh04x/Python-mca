{
 "cells": [
  {
   "cell_type": "markdown",
   "metadata": {},
   "source": [
    "<h2>CLASS QUESTION</h2>"
   ]
  },
  {
   "cell_type": "markdown",
   "metadata": {},
   "source": [
    "WAP that takes list of SAP ID and returns a list of email address"
   ]
  },
  {
   "cell_type": "code",
   "execution_count": null,
   "metadata": {},
   "outputs": [],
   "source": [
    "# write a program that takes\n",
    "# list of sap ids and returns a list of email addresses \n",
    "\n",
    "#input \n",
    "list = [123,\"234\"]\n",
    "#output\n",
    "res = [\"123@stu.upes.ac.in\",\"234@stu.upes.ac.in\"]\n",
    "\n",
    "#1 without using map, filter lambda or list comprehension \n",
    "#2 using map. filter, lambda without using list comprehension \n",
    "#3 using list comprehension"
   ]
  },
  {
   "cell_type": "markdown",
   "metadata": {},
   "source": [
    "#1 without using map, filter lambda or list comprehension "
   ]
  },
  {
   "cell_type": "code",
   "execution_count": 21,
   "metadata": {},
   "outputs": [
    {
     "name": "stdout",
     "output_type": "stream",
     "text": [
      "['590018178@stu.upes.ac.in', '590020098@stu.upes.ac.in']\n"
     ]
    }
   ],
   "source": [
    "def saptoemail(sap_ids):\n",
    "    emails = []  \n",
    "    \n",
    "    for sap_id in sap_ids:\n",
    "        email = f\"{sap_id}@stu.upes.ac.in\"  \n",
    "        emails.append(email) \n",
    "    return emails\n",
    "\n",
    "sap_ids = [590018178, 590020098]\n",
    "result = saptoemail(sap_ids)\n",
    "print(result)  "
   ]
  },
  {
   "cell_type": "markdown",
   "metadata": {},
   "source": [
    "#2 using map. filter, lambda without using list comprehension \n"
   ]
  },
  {
   "cell_type": "code",
   "execution_count": 20,
   "metadata": {},
   "outputs": [
    {
     "name": "stdout",
     "output_type": "stream",
     "text": [
      "['590018178@stu.upes.ac.in', '590020098@stu.upes.ac.in']\n"
     ]
    }
   ],
   "source": [
    "def saptoemail(sap_ids):\n",
    "    return list(map(lambda sap_id: f\"{sap_id}@stu.upes.ac.in\", sap_ids))\n",
    "\n",
    "sap_ids = [590018178, 590020098]\n",
    "result = saptoemail(sap_ids)\n",
    "print(result)  \n"
   ]
  },
  {
   "cell_type": "markdown",
   "metadata": {},
   "source": [
    "#3 using list comprehension"
   ]
  },
  {
   "cell_type": "code",
   "execution_count": 19,
   "metadata": {},
   "outputs": [
    {
     "name": "stdout",
     "output_type": "stream",
     "text": [
      "['590018178@stu.upes.ac.in', '590020098@stu.upes.ac.in']\n"
     ]
    }
   ],
   "source": [
    "def sap_ids_to_emails(sap_ids):\n",
    "    return [f\"{sap_id}@stu.upes.ac.in\" for sap_id in sap_ids]\n",
    "\n",
    "\n",
    "sap_ids = [590018178, 590020098]\n",
    "result = sap_ids_to_emails(sap_ids)\n",
    "print(result) \n"
   ]
  },
  {
   "cell_type": "code",
   "execution_count": null,
   "metadata": {},
   "outputs": [],
   "source": []
  }
 ],
 "metadata": {
  "kernelspec": {
   "display_name": "Python 3",
   "language": "python",
   "name": "python3"
  },
  "language_info": {
   "codemirror_mode": {
    "name": "ipython",
    "version": 3
   },
   "file_extension": ".py",
   "mimetype": "text/x-python",
   "name": "python",
   "nbconvert_exporter": "python",
   "pygments_lexer": "ipython3",
   "version": "3.12.6"
  }
 },
 "nbformat": 4,
 "nbformat_minor": 2
}
