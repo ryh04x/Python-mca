{
 "cells": [
  {
   "cell_type": "markdown",
   "metadata": {},
   "source": [
    "List In Python\n"
   ]
  },
  {
   "cell_type": "code",
   "execution_count": 7,
   "metadata": {},
   "outputs": [
    {
     "name": "stdout",
     "output_type": "stream",
     "text": [
      "s\n",
      "[1, 2, 3, 's', [1, 2]]\n",
      "[1, 2, 3, 10, [1, 2], {5, 6, 7}]\n"
     ]
    }
   ],
   "source": [
    "# List are independent and can store int, string as well as new list and set in it \n",
    "\n",
    "list = [ 1,2,3,\"s\", [1,2],{5,6,7}]\n",
    "\n",
    "print(list[3])\n",
    "\n",
    "\n",
    "# printing list from a particular index from index 0 to index 5\n",
    "\n",
    "print(list[0:5])\n",
    "\n",
    "\n",
    "# changing values on a index \n",
    "\n",
    "list[3] = 10\n",
    "\n",
    "print(list)"
   ]
  },
  {
   "cell_type": "markdown",
   "metadata": {},
   "source": [
    "Copy Module"
   ]
  },
  {
   "cell_type": "code",
   "execution_count": 10,
   "metadata": {},
   "outputs": [
    {
     "name": "stdout",
     "output_type": "stream",
     "text": [
      "[2, 3, 4, 5, [1, 2]]\n",
      "[2, 44, 6, [55, 3]]\n",
      "[2, 3, 4, 5, [1, 2]]\n"
     ]
    }
   ],
   "source": [
    "# import copy module \n",
    "\n",
    "import copy\n",
    "\n",
    "# defining list A and List B \n",
    "\n",
    "listA = [2,3,4,5,[1,2]]\n",
    "ListB = copy.copy(listA)\n",
    "\n",
    "# Applying changes in list B\n",
    "\n",
    "listB[1] = 44\n",
    "listB[3] [0] = 55\n",
    "\n",
    "\n",
    "# Analyze The output \n",
    "\n",
    "print(listA)\n",
    "print(listB)\n",
    "print(listA)\n"
   ]
  },
  {
   "cell_type": "markdown",
   "metadata": {},
   "source": [
    "Defining Functions"
   ]
  },
  {
   "cell_type": "code",
   "execution_count": 13,
   "metadata": {},
   "outputs": [
    {
     "name": "stdout",
     "output_type": "stream",
     "text": [
      "Hello, Rhythm!\n"
     ]
    }
   ],
   "source": [
    "def greet(name):\n",
    "    \n",
    "    \"\"\"Greets a person by their name.\"\"\"\n",
    "    return print(f\"Hello, {name}!\") \n",
    "\n",
    "# Calling the function\n",
    "\n",
    "greet(\"Rhythm\")\n"
   ]
  }
 ],
 "metadata": {
  "kernelspec": {
   "display_name": "Python 3",
   "language": "python",
   "name": "python3"
  },
  "language_info": {
   "codemirror_mode": {
    "name": "ipython",
    "version": 3
   },
   "file_extension": ".py",
   "mimetype": "text/x-python",
   "name": "python",
   "nbconvert_exporter": "python",
   "pygments_lexer": "ipython3",
   "version": "3.12.6"
  }
 },
 "nbformat": 4,
 "nbformat_minor": 2
}
